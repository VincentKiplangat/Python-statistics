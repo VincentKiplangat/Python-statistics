# The Monty hall using Bayes Theorem
